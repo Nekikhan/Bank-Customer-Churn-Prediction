{
 "cells": [
  {
   "cell_type": "code",
   "execution_count": 9,
   "id": "42d3a2f5",
   "metadata": {},
   "outputs": [],
   "source": [
    "# import necessary modules\n",
    " \n",
    "import pandas as pd\n",
    "import numpy as np\n",
    "import matplotlib.pyplot as plt \n",
    "import seaborn as sns"
   ]
  },
  {
   "cell_type": "code",
   "execution_count": 10,
   "id": "e3a09a5a",
   "metadata": {},
   "outputs": [
    {
     "name": "stdout",
     "output_type": "stream",
     "text": [
      "Requirement already satisfied: seaborn in c:\\users\\dell\\appdata\\local\\programs\\python\\python39\\lib\\site-packages (0.11.2)\n",
      "Requirement already satisfied: pandas>=0.23 in c:\\users\\dell\\appdata\\local\\programs\\python\\python39\\lib\\site-packages (from seaborn) (1.3.2)\n",
      "Requirement already satisfied: matplotlib>=2.2 in c:\\users\\dell\\appdata\\local\\programs\\python\\python39\\lib\\site-packages (from seaborn) (3.4.3)\n",
      "Requirement already satisfied: numpy>=1.15 in c:\\users\\dell\\appdata\\local\\programs\\python\\python39\\lib\\site-packages (from seaborn) (1.21.2)\n",
      "Requirement already satisfied: scipy>=1.0 in c:\\users\\dell\\appdata\\local\\programs\\python\\python39\\lib\\site-packages (from seaborn) (1.7.1)\n",
      "Requirement already satisfied: pyparsing>=2.2.1 in c:\\users\\dell\\appdata\\local\\programs\\python\\python39\\lib\\site-packages (from matplotlib>=2.2->seaborn) (2.4.7)\n",
      "Requirement already satisfied: python-dateutil>=2.7 in c:\\users\\dell\\appdata\\local\\programs\\python\\python39\\lib\\site-packages (from matplotlib>=2.2->seaborn) (2.8.2)\n",
      "Requirement already satisfied: cycler>=0.10 in c:\\users\\dell\\appdata\\local\\programs\\python\\python39\\lib\\site-packages (from matplotlib>=2.2->seaborn) (0.10.0)\n",
      "Requirement already satisfied: pillow>=6.2.0 in c:\\users\\dell\\appdata\\local\\programs\\python\\python39\\lib\\site-packages (from matplotlib>=2.2->seaborn) (8.3.2)\n",
      "Requirement already satisfied: kiwisolver>=1.0.1 in c:\\users\\dell\\appdata\\local\\programs\\python\\python39\\lib\\site-packages (from matplotlib>=2.2->seaborn) (1.3.2)\n",
      "Requirement already satisfied: six in c:\\users\\dell\\appdata\\local\\programs\\python\\python39\\lib\\site-packages (from cycler>=0.10->matplotlib>=2.2->seaborn) (1.16.0)\n",
      "Requirement already satisfied: pytz>=2017.3 in c:\\users\\dell\\appdata\\local\\programs\\python\\python39\\lib\\site-packages (from pandas>=0.23->seaborn) (2021.1)\n"
     ]
    },
    {
     "name": "stderr",
     "output_type": "stream",
     "text": [
      "WARNING: You are using pip version 21.1.3; however, version 21.2.4 is available.\n",
      "You should consider upgrading via the 'c:\\users\\dell\\appdata\\local\\programs\\python\\python39\\python.exe -m pip install --upgrade pip' command.\n"
     ]
    }
   ],
   "source": [
    "!pip install seaborn"
   ]
  },
  {
   "cell_type": "code",
   "execution_count": null,
   "id": "0eb808ae",
   "metadata": {},
   "outputs": [],
   "source": [
    "df=pd.read_csv('Churn_Modelling.csv')\n",
    "df.head()"
   ]
  },
  {
   "cell_type": "code",
   "execution_count": null,
   "id": "a7d47dd4",
   "metadata": {},
   "outputs": [],
   "source": [
    "# drop unnecessary feature\n",
    "\n",
    "df=df.drop(['RowNumber','CustomerId','Surname'],axis=1)"
   ]
  },
  {
   "cell_type": "code",
   "execution_count": null,
   "id": "94988b8e",
   "metadata": {},
   "outputs": [],
   "source": [
    "df['Gender'].replace({'Male':0,'Female':1},inplace=True)\n",
    "df['Geography'].replace({'France':0,'Spain':1,'Germany':2},inplace=True)"
   ]
  },
  {
   "cell_type": "code",
   "execution_count": null,
   "id": "351ee9db",
   "metadata": {},
   "outputs": [],
   "source": [
    "df.shape"
   ]
  },
  {
   "cell_type": "code",
   "execution_count": null,
   "id": "0b280929",
   "metadata": {},
   "outputs": [],
   "source": [
    "df.head()"
   ]
  },
  {
   "cell_type": "code",
   "execution_count": null,
   "id": "b7141561",
   "metadata": {},
   "outputs": [],
   "source": [
    "sns.pairplot(df,hue='Exited')"
   ]
  },
  {
   "cell_type": "code",
   "execution_count": null,
   "id": "0afbbba4",
   "metadata": {},
   "outputs": [],
   "source": [
    "# # Dividing dependent and independent variables\n",
    "X = df.drop(\"Exited\", axis=1)\n",
    "y = df[\"Exited\"]"
   ]
  },
  {
   "cell_type": "code",
   "execution_count": null,
   "id": "ad54c124",
   "metadata": {},
   "outputs": [],
   "source": [
    "from sklearn.model_selection import train_test_split\n",
    "X_train, X_test, y_train, y_test = train_test_split(X, y, test_size=0.25, random_state=42)"
   ]
  },
  {
   "cell_type": "code",
   "execution_count": null,
   "id": "454204c7",
   "metadata": {},
   "outputs": [],
   "source": [
    "# Feature Scaling\n",
    "\n",
    "from sklearn.preprocessing import StandardScaler\n",
    "sc = StandardScaler()\n",
    "X_train = sc.fit_transform(X_train)\n",
    "X_test = sc.transform(X_test)"
   ]
  },
  {
   "cell_type": "code",
   "execution_count": null,
   "id": "3b630a77",
   "metadata": {},
   "outputs": [],
   "source": [
    "from sklearn.ensemble import RandomForestClassifier\n",
    "\n",
    "clf = RandomForestClassifier(n_estimators=100,random_state=0)\n",
    "model=clf.fit(X_train, y_train)\n",
    "y_pred=model.predict(X_test)"
   ]
  },
  {
   "cell_type": "code",
   "execution_count": null,
   "id": "81d67a23",
   "metadata": {},
   "outputs": [],
   "source": [
    "from sklearn.metrics import accuracy_score,precision_score,recall_score,f1_score,confusion_matrix\n",
    "\n",
    "acc_score=accuracy_score(y_test, y_pred)\n",
    "p_score=precision_score(y_test,y_pred)\n",
    "re_score=recall_score(y_test,y_pred)\n",
    "f_score=f1_score(y_test,y_pred)\n",
    "\n",
    "print(f'Accuracy score of the model is {acc_score}')\n",
    "print(f'precision score of the model is {p_score}')\n",
    "print(f'recall score of the model is {re_score}')\n",
    "print(f'f1_score of the model is {f_score}')"
   ]
  },
  {
   "cell_type": "code",
   "execution_count": null,
   "id": "405a7078",
   "metadata": {},
   "outputs": [],
   "source": [
    "confusion_m=confusion_matrix(y_test,y_pred)\n",
    "confusion_m"
   ]
  },
  {
   "cell_type": "code",
   "execution_count": null,
   "id": "c2592251",
   "metadata": {},
   "outputs": [],
   "source": [
    "sns.heatmap(confusion_m, annot=True,cmap='Greens')"
   ]
  },
  {
   "cell_type": "code",
   "execution_count": null,
   "id": "6d8948d1",
   "metadata": {},
   "outputs": [],
   "source": [
    "# Saving model\n",
    "import pickle\n",
    "pickle.dump(model, open('pickle.pkl','wb'))"
   ]
  },
  {
   "cell_type": "code",
   "execution_count": null,
   "id": "cd8b3eb2",
   "metadata": {},
   "outputs": [],
   "source": [
    "# Loading model to compare the results\n",
    "model = pickle.load(open('pickle.pkl','rb'))\n",
    "print(model.predict([[432, 1, 0, 34, 3, 44440,2 , 1, 0,50000]]))"
   ]
  }
 ],
 "metadata": {
  "kernelspec": {
   "display_name": "Python 3 (ipykernel)",
   "language": "python",
   "name": "python3"
  },
  "language_info": {
   "codemirror_mode": {
    "name": "ipython",
    "version": 3
   },
   "file_extension": ".py",
   "mimetype": "text/x-python",
   "name": "python",
   "nbconvert_exporter": "python",
   "pygments_lexer": "ipython3",
   "version": "3.9.6"
  }
 },
 "nbformat": 4,
 "nbformat_minor": 5
}
